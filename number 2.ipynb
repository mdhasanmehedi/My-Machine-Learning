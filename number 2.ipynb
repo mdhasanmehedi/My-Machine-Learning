{
  "nbformat": 4,
  "nbformat_minor": 0,
  "metadata": {
    "colab": {
      "name": "Homework2MCLRN.ipynb",
      "provenance": [],
      "collapsed_sections": []
    },
    "kernelspec": {
      "name": "python3",
      "display_name": "Python 3"
    },
    "accelerator": "GPU"
  },
  "cells": [
    {
      "cell_type": "markdown",
      "metadata": {
        "id": "l0AwI_CIZFwD",
        "colab_type": "text"
      },
      "source": [
        "# Classification Problem : Finger Digits 0-5"
      ]
    },
    {
      "cell_type": "code",
      "metadata": {
        "id": "dilVcXWfR6iK",
        "colab_type": "code",
        "outputId": "1844b1d2-1c3b-4197-dee7-826dc7b73c8a",
        "colab": {
          "base_uri": "https://localhost:8080/",
          "height": 34
        }
      },
      "source": [
        "from google.colab import drive\n",
        "drive.mount(\"/content/drive\")"
      ],
      "execution_count": 0,
      "outputs": [
        {
          "output_type": "stream",
          "text": [
            "Drive already mounted at /content/drive; to attempt to forcibly remount, call drive.mount(\"/content/drive\", force_remount=True).\n"
          ],
          "name": "stdout"
        }
      ]
    },
    {
      "cell_type": "markdown",
      "metadata": {
        "id": "ZQ5A0QlRZVUd",
        "colab_type": "text"
      },
      "source": [
        "Import necessary libraries\n",
        "\n",
        "*   Library for matrix calculations numpy\n",
        "\n",
        "*   Library for scientific plotting matplotlib\n",
        "\n",
        "* Command (jupiter magic) %matplotlib inline says that all graphic output will be sent to the browser"
      ]
    },
    {
      "cell_type": "code",
      "metadata": {
        "id": "2kH0G33QSA50",
        "colab_type": "code",
        "outputId": "04bb5c14-615b-482e-a775-eb5cde07d158",
        "colab": {
          "base_uri": "https://localhost:8080/",
          "height": 34
        }
      },
      "source": [
        "import tensorflow as tf\n",
        "tf.test.gpu_device_name()\n",
        "from tensorflow import keras\n",
        "\n",
        "\n",
        "import numpy as np\n",
        "from tensorflow.keras.optimizers import RMSprop\n",
        "import matplotlib.pyplot as plt\n",
        "%matplotlib inline \n",
        "\n",
        "print(tf.__version__)"
      ],
      "execution_count": 0,
      "outputs": [
        {
          "output_type": "stream",
          "text": [
            "2.1.0\n"
          ],
          "name": "stdout"
        }
      ]
    },
    {
      "cell_type": "markdown",
      "metadata": {
        "id": "ExbrXExdaLXB",
        "colab_type": "text"
      },
      "source": [
        "# Load data"
      ]
    },
    {
      "cell_type": "code",
      "metadata": {
        "id": "_MSm0owGSP4K",
        "colab_type": "code",
        "colab": {}
      },
      "source": [
        "train_file = \"/content/drive/My Drive/Colab Notebooks/train.zip\""
      ],
      "execution_count": 0,
      "outputs": []
    },
    {
      "cell_type": "code",
      "metadata": {
        "id": "ID0NpvLYSTse",
        "colab_type": "code",
        "colab": {}
      },
      "source": [
        "import zipfile\n",
        "\n",
        "with zipfile.ZipFile(train_file, 'r') as z:\n",
        "    z.extractall()"
      ],
      "execution_count": 0,
      "outputs": []
    },
    {
      "cell_type": "code",
      "metadata": {
        "id": "6NYFDoJhSVym",
        "colab_type": "code",
        "colab": {}
      },
      "source": [
        "import os\n",
        "import cv2\n",
        "\n",
        "def load_image(file_path):\n",
        "    return cv2.imread(file_path)\n",
        "\n",
        "def extract_label(file_name):\n",
        "    return 1 if \"One\" in file_name else 2 if \"Two\" in file_name else 3 if \"Three\" in file_name else 4 if \"Four\" in file_name else 5 if \"Five\" in file_name else 0\n",
        "\n",
        "train_path = \"./train/\"\n",
        "image_files = os.listdir(train_path)\n",
        "train_images = [load_image(train_path + file) for file in image_files]\n",
        "train_labels = [extract_label(file) for file in image_files] "
      ],
      "execution_count": 0,
      "outputs": []
    },
    {
      "cell_type": "code",
      "metadata": {
        "id": "sDsZwBMNeH0T",
        "colab_type": "code",
        "colab": {}
      },
      "source": [
        "def preprocess_image(img, side=128):\n",
        "    min_side = min(img.shape[0], img.shape[1])\n",
        "    img = img[:min_side, :min_side]\n",
        "    img = cv2.resize(img, (side,side))\n",
        "    img = cv2.cvtColor(img, cv2.COLOR_BGR2GRAY)\n",
        "    return img / 255.0"
      ],
      "execution_count": 0,
      "outputs": []
    },
    {
      "cell_type": "code",
      "metadata": {
        "id": "ZU_L_CaWe_qR",
        "colab_type": "code",
        "outputId": "c1139523-a648-4641-ba84-b0c5206d9153",
        "colab": {
          "base_uri": "https://localhost:8080/",
          "height": 220
        }
      },
      "source": [
        "preview_index = 1002\n",
        "plt.subplot(1,2,1)\n",
        "plt.imshow(train_images[preview_index])\n",
        "plt.subplot(1,2,2)\n",
        "plt.imshow(preprocess_image(train_images[preview_index]), cmap=\"gray\")"
      ],
      "execution_count": 0,
      "outputs": [
        {
          "output_type": "execute_result",
          "data": {
            "text/plain": [
              "<matplotlib.image.AxesImage at 0x7fd9bfb0b128>"
            ]
          },
          "metadata": {
            "tags": []
          },
          "execution_count": 256
        },
        {
          "output_type": "display_data",
          "data": {
            "image/png": "[encoded data removed]",
            "text/plain": [
              "<Figure size 432x288 with 2 Axes>"
            ]
          },
          "metadata": {
            "tags": []
          }
        }
      ]
    },
    {
      "cell_type": "code",
      "metadata": {
        "id": "bRLGfusfePjM",
        "colab_type": "code",
        "colab": {}
      },
      "source": [
        "for i in range(len(train_images)):\n",
        "    train_images[i] = preprocess_image(train_images[i])"
      ],
      "execution_count": 0,
      "outputs": []
    },
    {
      "cell_type": "code",
      "metadata": {
        "id": "mA1c1osgfO-G",
        "colab_type": "code",
        "outputId": "cb8e2c20-9260-4d9e-baec-8cf2c55f3838",
        "colab": {
          "base_uri": "https://localhost:8080/",
          "height": 34
        }
      },
      "source": [
        "train_images = np.expand_dims(train_images, axis=-1)\n",
        "train_labels = np.array(train_labels)\n",
        "print(train_images.shape, train_labels.shape)\n"
      ],
      "execution_count": 0,
      "outputs": [
        {
          "output_type": "stream",
          "text": [
            "(12006, 128, 128, 1) (12006,)\n"
          ],
          "name": "stdout"
        }
      ]
    },
    {
      "cell_type": "code",
      "metadata": {
        "id": "xDh8CIeDcjbh",
        "colab_type": "code",
        "colab": {}
      },
      "source": [
        "X = train_images\n",
        "y = train_labels"
      ],
      "execution_count": 0,
      "outputs": []
    },
    {
      "cell_type": "code",
      "metadata": {
        "id": "qH4pLBJ0cozg",
        "colab_type": "code",
        "outputId": "82a52a48-ae0f-43a4-db83-e84dee766ef5",
        "colab": {
          "base_uri": "https://localhost:8080/",
          "height": 34
        }
      },
      "source": [
        "np.shape(X)"
      ],
      "execution_count": 0,
      "outputs": [
        {
          "output_type": "execute_result",
          "data": {
            "text/plain": [
              "(12006, 128, 128, 1)"
            ]
          },
          "metadata": {
            "tags": []
          },
          "execution_count": 260
        }
      ]
    },
    {
      "cell_type": "markdown",
      "metadata": {
        "id": "e6IGcVyBaamy",
        "colab_type": "text"
      },
      "source": [
        "We draw some images, each image is of 8x8 pixels. So each image has 64 features. First, construct a matrix from the feature vector."
      ]
    },
    {
      "cell_type": "code",
      "metadata": {
        "id": "OGzdw4FzcsRy",
        "colab_type": "code",
        "colab": {}
      },
      "source": [
        "def draw_digit(Img, digit_true, digit_pred = ''):\n",
        "    plt.xticks([])\n",
        "    plt.yticks([])\n",
        "    plt.imshow(np.reshape(Img, (128, 128)), interpolation = 'nearest')\n",
        "    plt.text(0, 7, str(digit_true), color = 'b')\n",
        "    plt.text(0, 1, str(digit_pred), color = 'r')\n",
        "    plt.set_cmap('binary')    "
      ],
      "execution_count": 0,
      "outputs": []
    },
    {
      "cell_type": "markdown",
      "metadata": {
        "id": "UlS1jgNkajd8",
        "colab_type": "text"
      },
      "source": [
        "We draw first 60 images"
      ]
    },
    {
      "cell_type": "code",
      "metadata": {
        "id": "emcreW5fcwLL",
        "colab_type": "code",
        "outputId": "5bf8b468-ebc8-4a9f-925c-bbe923fc833e",
        "colab": {
          "base_uri": "https://localhost:8080/",
          "height": 528
        }
      },
      "source": [
        "plt.figure(figsize = (16, 9))\n",
        "for i_subplot in range(60):\n",
        "    plt.subplot(6, 10, i_subplot + 1)\n",
        "    draw_digit(X[i_subplot, :], y[i_subplot])"
      ],
      "execution_count": 0,
      "outputs": [
        {
          "output_type": "display_data",
          "data": {
            "image/png": "[encoded data removed]",
            "text/plain": [
              "<Figure size 1152x648 with 60 Axes>"
            ]
          },
          "metadata": {
            "tags": []
          }
        }
      ]
    },
    {
      "cell_type": "markdown",
      "metadata": {
        "id": "TII1bRUyawYB",
        "colab_type": "text"
      },
      "source": [
        "Break the data into train and test sets, by calling train_test_split 33% - for the test set, 67% - for the train set"
      ]
    },
    {
      "cell_type": "code",
      "metadata": {
        "id": "_bmiPQ-pc5Fj",
        "colab_type": "code",
        "colab": {}
      },
      "source": [
        "from sklearn.model_selection import train_test_split\n",
        "X_train, X_test, y_train, y_test = train_test_split(X, y, test_size = 0.33, random_state = 42)\n"
      ],
      "execution_count": 0,
      "outputs": []
    },
    {
      "cell_type": "markdown",
      "metadata": {
        "id": "AbUNKBVGa79g",
        "colab_type": "text"
      },
      "source": [
        "The size of the test and the train sets:"
      ]
    },
    {
      "cell_type": "code",
      "metadata": {
        "id": "S7peeCzIdBAk",
        "colab_type": "code",
        "outputId": "27223646-8a8c-44f1-c2ea-191b00094d7f",
        "colab": {
          "base_uri": "https://localhost:8080/",
          "height": 34
        }
      },
      "source": [
        "N_train = np.shape(X_train)\n",
        "N_test = np.shape(X_test)\n",
        "print(N_train, N_test)"
      ],
      "execution_count": 0,
      "outputs": [
        {
          "output_type": "stream",
          "text": [
            "(8044, 128, 128, 1) (3962, 128, 128, 1)\n"
          ],
          "name": "stdout"
        }
      ]
    },
    {
      "cell_type": "markdown",
      "metadata": {
        "id": "vpab1Jn8a_3q",
        "colab_type": "text"
      },
      "source": [
        "# Training the model\n",
        "We'll train a simple neural network - multilayer perceptron (MLP)"
      ]
    },
    {
      "cell_type": "code",
      "metadata": {
        "id": "AwiBV23SdDdA",
        "colab_type": "code",
        "colab": {}
      },
      "source": [
        "from sklearn.neural_network import MLPClassifier"
      ],
      "execution_count": 0,
      "outputs": []
    },
    {
      "cell_type": "code",
      "metadata": {
        "id": "DzZPRwbZdWFJ",
        "colab_type": "code",
        "colab": {}
      },
      "source": [
        "mlp_model = MLPClassifier(hidden_layer_sizes = (100,), solver = 'lbfgs', \n",
        "                          activation = 'logistic', random_state = 42)\n"
      ],
      "execution_count": 0,
      "outputs": []
    },
    {
      "cell_type": "code",
      "metadata": {
        "id": "L0kT0RxUgiY8",
        "colab_type": "code",
        "colab": {}
      },
      "source": [
        "X_train = X_train.reshape(8044,1*128*128)\n",
        "X_test = X_test.reshape(3962,1*128*128)"
      ],
      "execution_count": 0,
      "outputs": []
    },
    {
      "cell_type": "code",
      "metadata": {
        "id": "fQNEMcFDdX-w",
        "colab_type": "code",
        "outputId": "9c668c06-2948-469e-cea7-93b0ce04120d",
        "colab": {
          "base_uri": "https://localhost:8080/",
          "height": 153
        }
      },
      "source": [
        "mlp_model.fit(X_train, y_train)"
      ],
      "execution_count": 0,
      "outputs": [
        {
          "output_type": "execute_result",
          "data": {
            "text/plain": [
              "MLPClassifier(activation='logistic', alpha=0.0001, batch_size='auto',\n",
              "              beta_1=0.9, beta_2=0.999, early_stopping=False, epsilon=1e-08,\n",
              "              hidden_layer_sizes=(100,), learning_rate='constant',\n",
              "              learning_rate_init=0.001, max_fun=15000, max_iter=200,\n",
              "              momentum=0.9, n_iter_no_change=10, nesterovs_momentum=True,\n",
              "              power_t=0.5, random_state=42, shuffle=True, solver='lbfgs',\n",
              "              tol=0.0001, validation_fraction=0.1, verbose=False,\n",
              "              warm_start=False)"
            ]
          },
          "metadata": {
            "tags": []
          },
          "execution_count": 268
        }
      ]
    },
    {
      "cell_type": "markdown",
      "metadata": {
        "id": "m_R9JomHbHwZ",
        "colab_type": "text"
      },
      "source": [
        "Now we can classify:\n",
        "For example, let's take the 42nd image"
      ]
    },
    {
      "cell_type": "code",
      "metadata": {
        "id": "pRC4MYyHdaKu",
        "colab_type": "code",
        "outputId": "e10e6f3e-36ad-4f4e-8b95-a9d5a4da2500",
        "colab": {
          "base_uri": "https://localhost:8080/",
          "height": 252
        }
      },
      "source": [
        "i = 16\n",
        "Img = X_test[i, :]\n",
        "dig = y_test[i]\n",
        "draw_digit(Img, dig)"
      ],
      "execution_count": 0,
      "outputs": [
        {
          "output_type": "display_data",
          "data": {
            "image/png": "[encoded data removed]",
            "text/plain": [
              "<Figure size 432x288 with 1 Axes>"
            ]
          },
          "metadata": {
            "tags": []
          }
        }
      ]
    },
    {
      "cell_type": "markdown",
      "metadata": {
        "id": "bZDQBQjKbRgc",
        "colab_type": "text"
      },
      "source": [
        "The classifier returns 1 which is correct"
      ]
    },
    {
      "cell_type": "code",
      "metadata": {
        "id": "m0dy6EfjhnEy",
        "colab_type": "code",
        "outputId": "14302f10-86ec-4223-a560-a5f714013985",
        "colab": {
          "base_uri": "https://localhost:8080/",
          "height": 34
        }
      },
      "source": [
        "mlp_model.predict([Img])"
      ],
      "execution_count": 0,
      "outputs": [
        {
          "output_type": "execute_result",
          "data": {
            "text/plain": [
              "array([1])"
            ]
          },
          "metadata": {
            "tags": []
          },
          "execution_count": 270
        }
      ]
    },
    {
      "cell_type": "code",
      "metadata": {
        "id": "RcIBlfLphqIU",
        "colab_type": "code",
        "outputId": "542fc392-c89e-49c2-bf76-f4cf86eceb71",
        "colab": {
          "base_uri": "https://localhost:8080/",
          "height": 257
        }
      },
      "source": [
        "i = 16\n",
        "Img = X_test[i, :]\n",
        "dig = y_test[i]\n",
        "dig_pred = mlp_model.predict([Img])[0]\n",
        "draw_digit(Img, dig, dig_pred)"
      ],
      "execution_count": 0,
      "outputs": [
        {
          "output_type": "display_data",
          "data": {
            "image/png": "[encoded data removed]",
            "text/plain": [
              "<Figure size 432x288 with 1 Axes>"
            ]
          },
          "metadata": {
            "tags": []
          }
        }
      ]
    },
    {
      "cell_type": "markdown",
      "metadata": {
        "id": "zpFJaEkUbaAW",
        "colab_type": "text"
      },
      "source": [
        "Now we input the entire training and the entire test set:\n",
        "\n"
      ]
    },
    {
      "cell_type": "code",
      "metadata": {
        "id": "wKjaDsb2h8re",
        "colab_type": "code",
        "colab": {}
      },
      "source": [
        "y_train_pred = mlp_model.predict(X_train)\n",
        "y_test_pred = mlp_model.predict(X_test)"
      ],
      "execution_count": 0,
      "outputs": []
    },
    {
      "cell_type": "markdown",
      "metadata": {
        "id": "y7pPpsKqbyPT",
        "colab_type": "text"
      },
      "source": [
        "Train and test errors"
      ]
    },
    {
      "cell_type": "code",
      "metadata": {
        "id": "BMOeB2c_iBBp",
        "colab_type": "code",
        "outputId": "408e4afc-e616-407f-b041-e930d01611dc",
        "colab": {
          "base_uri": "https://localhost:8080/",
          "height": 34
        }
      },
      "source": [
        "print(np.mean(y_train != y_train_pred), np.mean(y_test != y_test_pred))"
      ],
      "execution_count": 0,
      "outputs": [
        {
          "output_type": "stream",
          "text": [
            "0.0 0.0\n"
          ],
          "name": "stdout"
        }
      ]
    },
    {
      "cell_type": "markdown",
      "metadata": {
        "id": "PdKu5QxJb1Mv",
        "colab_type": "text"
      },
      "source": [
        "Train and test accuracy score"
      ]
    },
    {
      "cell_type": "code",
      "metadata": {
        "id": "8L0Jk979iDmB",
        "colab_type": "code",
        "outputId": "44ae0538-9d6a-4ed0-ed9e-45b2118c7bf0",
        "colab": {
          "base_uri": "https://localhost:8080/",
          "height": 34
        }
      },
      "source": [
        "print(mlp_model.score(X_train, y_train), mlp_model.score(X_test, y_test))"
      ],
      "execution_count": 0,
      "outputs": [
        {
          "output_type": "stream",
          "text": [
            "1.0 1.0\n"
          ],
          "name": "stdout"
        }
      ]
    },
    {
      "cell_type": "code",
      "metadata": {
        "id": "h8zqeoQQiGQB",
        "colab_type": "code",
        "outputId": "08da57b9-13e6-4f1e-8136-53363dfd06b3",
        "colab": {
          "base_uri": "https://localhost:8080/",
          "height": 34
        }
      },
      "source": [
        "print(1 - mlp_model.score(X_test, y_test))"
      ],
      "execution_count": 0,
      "outputs": [
        {
          "output_type": "stream",
          "text": [
            "0.0\n"
          ],
          "name": "stdout"
        }
      ]
    },
    {
      "cell_type": "markdown",
      "metadata": {
        "id": "QK03jGe0b_Ks",
        "colab_type": "text"
      },
      "source": [
        "All erroneous cases: We have none"
      ]
    },
    {
      "cell_type": "code",
      "metadata": {
        "id": "yuwUxuCjiJMs",
        "colab_type": "code",
        "outputId": "0f135b02-976b-45e9-f796-43ee9c196013",
        "colab": {
          "base_uri": "https://localhost:8080/",
          "height": 34
        }
      },
      "source": [
        "train_error_cases = np.where(y_train != y_train_pred)\n",
        "test_error_cases = np.where(y_test != y_test_pred)\n",
        "print(train_error_cases, test_error_cases)"
      ],
      "execution_count": 0,
      "outputs": [
        {
          "output_type": "stream",
          "text": [
            "(array([], dtype=int64),) (array([], dtype=int64),)\n"
          ],
          "name": "stdout"
        }
      ]
    },
    {
      "cell_type": "code",
      "metadata": {
        "id": "JeOyHeiQiMpQ",
        "colab_type": "code",
        "outputId": "2df76aa5-5a68-4599-d00c-dbded6ea1213",
        "colab": {
          "base_uri": "https://localhost:8080/",
          "height": 248
        }
      },
      "source": [
        "plt.figure(figsize = (16, 16))\n",
        "i_subplot = 1 \n",
        "for i in np.nditer(test_error_cases):\n",
        "    Img = X_test[i, :]\n",
        "    digit = y_test[i]\n",
        "    digit_pred = y_test[i]\n",
        "    plt.subplot(8, 8, i_subplot)\n",
        "    draw_digit(Img, digit, digit_pred)\n",
        "    i_subplot += 1"
      ],
      "execution_count": 0,
      "outputs": [
        {
          "output_type": "error",
          "ename": "ValueError",
          "evalue": "ignored",
          "traceback": [
            "\u001b[0;31m---------------------------------------------------------------------------\u001b[0m",
            "\u001b[0;31mValueError\u001b[0m                                Traceback (most recent call last)",
            "\u001b[0;32m<ipython-input-277-d24cee3690da>\u001b[0m in \u001b[0;36m<module>\u001b[0;34m()\u001b[0m\n\u001b[1;32m      1\u001b[0m \u001b[0mplt\u001b[0m\u001b[0;34m.\u001b[0m\u001b[0mfigure\u001b[0m\u001b[0;34m(\u001b[0m\u001b[0mfigsize\u001b[0m \u001b[0;34m=\u001b[0m \u001b[0;34m(\u001b[0m\u001b[0;36m16\u001b[0m\u001b[0;34m,\u001b[0m \u001b[0;36m16\u001b[0m\u001b[0;34m)\u001b[0m\u001b[0;34m)\u001b[0m\u001b[0;34m\u001b[0m\u001b[0;34m\u001b[0m\u001b[0m\n\u001b[1;32m      2\u001b[0m \u001b[0mi_subplot\u001b[0m \u001b[0;34m=\u001b[0m \u001b[0;36m1\u001b[0m\u001b[0;34m\u001b[0m\u001b[0;34m\u001b[0m\u001b[0m\n\u001b[0;32m----> 3\u001b[0;31m \u001b[0;32mfor\u001b[0m \u001b[0mi\u001b[0m \u001b[0;32min\u001b[0m \u001b[0mnp\u001b[0m\u001b[0;34m.\u001b[0m\u001b[0mnditer\u001b[0m\u001b[0;34m(\u001b[0m\u001b[0mtest_error_cases\u001b[0m\u001b[0;34m)\u001b[0m\u001b[0;34m:\u001b[0m\u001b[0;34m\u001b[0m\u001b[0;34m\u001b[0m\u001b[0m\n\u001b[0m\u001b[1;32m      4\u001b[0m     \u001b[0mImg\u001b[0m \u001b[0;34m=\u001b[0m \u001b[0mX_test\u001b[0m\u001b[0;34m[\u001b[0m\u001b[0mi\u001b[0m\u001b[0;34m,\u001b[0m \u001b[0;34m:\u001b[0m\u001b[0;34m]\u001b[0m\u001b[0;34m\u001b[0m\u001b[0;34m\u001b[0m\u001b[0m\n\u001b[1;32m      5\u001b[0m     \u001b[0mdigit\u001b[0m \u001b[0;34m=\u001b[0m \u001b[0my_test\u001b[0m\u001b[0;34m[\u001b[0m\u001b[0mi\u001b[0m\u001b[0;34m]\u001b[0m\u001b[0;34m\u001b[0m\u001b[0;34m\u001b[0m\u001b[0m\n",
            "\u001b[0;31mValueError\u001b[0m: Iteration of zero-sized operands is not enabled"
          ]
        },
        {
          "output_type": "display_data",
          "data": {
            "text/plain": [
              "<Figure size 1152x1152 with 0 Axes>"
            ]
          },
          "metadata": {
            "tags": []
          }
        }
      ]
    },
    {
      "cell_type": "code",
      "metadata": {
        "id": "5JEa9Na0iQXY",
        "colab_type": "code",
        "colab": {}
      },
      "source": [
        "alpha_arr = np.logspace(-3, 2, num=1)\n",
        "test_err = []\n",
        "train_err = []\n",
        "for alpha in alpha_arr:\n",
        "    mlp_model = MLPClassifier(alpha = alpha, hidden_layer_sizes = (100,), \n",
        "                              solver = 'lbfgs', activation = 'logistic', \n",
        "                              random_state = 42)\n",
        "    mlp_model.fit(X_train, y_train)\n",
        "\n",
        "    y_train_pred = mlp_model.predict(X_train)\n",
        "    y_test_pred = mlp_model.predict(X_test)\n",
        "    train_err.append(np.mean(y_train != y_train_pred))\n",
        "    test_err.append(np.mean(y_test != y_test_pred))"
      ],
      "execution_count": 0,
      "outputs": []
    },
    {
      "cell_type": "code",
      "metadata": {
        "id": "4DBXpOVHkiLY",
        "colab_type": "code",
        "colab": {}
      },
      "source": [
        "alpha_arr"
      ],
      "execution_count": 0,
      "outputs": []
    },
    {
      "cell_type": "code",
      "metadata": {
        "id": "E_g_YkHiknoc",
        "colab_type": "code",
        "colab": {}
      },
      "source": [
        "plt.semilogx(alpha_arr, train_err, 'b-o', label = 'train')\n",
        "plt.semilogx(alpha_arr, test_err, 'r-o', label = 'test')\n",
        "#plt.xlim([np.max(alpha_arr), np.min(alpha_arr)])\n",
        "plt.title('Error vs. alpha')\n",
        "plt.xlabel('alpha')\n",
        "plt.ylabel('error')\n",
        "plt.legend()\n",
        "pass"
      ],
      "execution_count": 0,
      "outputs": []
    },
    {
      "cell_type": "code",
      "metadata": {
        "id": "FqUiXzZOlhgz",
        "colab_type": "code",
        "colab": {}
      },
      "source": [
        "min_train_err = np.min(train_err)\n",
        "min_test_err = np.min(test_err)\n",
        "\n",
        "print(min_train_err, min_test_err)"
      ],
      "execution_count": 0,
      "outputs": []
    },
    {
      "cell_type": "code",
      "metadata": {
        "id": "X-HePMzEljfU",
        "colab_type": "code",
        "colab": {}
      },
      "source": [
        "alpha_opt = alpha_arr[test_err == min_test_err]\n",
        "print(alpha_opt)"
      ],
      "execution_count": 0,
      "outputs": []
    },
    {
      "cell_type": "code",
      "metadata": {
        "id": "8qkTLJTVlmIY",
        "colab_type": "code",
        "colab": {}
      },
      "source": [
        "alpha_opt = alpha_opt[0]"
      ],
      "execution_count": 0,
      "outputs": []
    },
    {
      "cell_type": "code",
      "metadata": {
        "id": "N2Cw_A8VlpNk",
        "colab_type": "code",
        "colab": {}
      },
      "source": [
        "mlp_model = MLPClassifier(alpha = alpha_opt, hidden_layer_sizes = (100,),\n",
        "                          solver = 'lbfgs', activation = 'logistic', random_state = 42)\n",
        "mlp_model.fit(X_train, y_train)\n",
        "\n",
        "y_train_pred = mlp_model.predict(X_train)\n",
        "y_test_pred = mlp_model.predict(X_test)\n",
        "print(np.mean(y_train != y_train_pred))\n",
        "print(np.mean(y_test != y_test_pred))"
      ],
      "execution_count": 0,
      "outputs": []
    },
    {
      "cell_type": "markdown",
      "metadata": {
        "id": "19knH6bLcMSr",
        "colab_type": "text"
      },
      "source": [
        "#Confusion matrix\n",
        "Confusion matrix allows us to estimate the quality of the classifier. The rows of the matrix correspond to the real classes. The columns to the predicted classes. At the intersection of the row i and the columnj is the number of objects of the ith class, classified by the classifier as the jth class. In Python, all indices are numbered beginning from 0."
      ]
    },
    {
      "cell_type": "code",
      "metadata": {
        "id": "8Y6AK7k6lubz",
        "colab_type": "code",
        "outputId": "339f7974-ab0f-457c-ce6e-37a59b00fe3a",
        "colab": {
          "base_uri": "https://localhost:8080/",
          "height": 119
        }
      },
      "source": [
        "from sklearn.metrics import confusion_matrix\n",
        "print(confusion_matrix(y_test, y_test_pred))"
      ],
      "execution_count": 0,
      "outputs": [
        {
          "output_type": "stream",
          "text": [
            "[[654   0   0   0   0   0]\n",
            " [  0 643   0   0   0   0]\n",
            " [  0   0 657   0   0   0]\n",
            " [  0   0   0 669   0   0]\n",
            " [  0   0   0   0 654   0]\n",
            " [  0   0   0   0   0 685]]\n"
          ],
          "name": "stdout"
        }
      ]
    },
    {
      "cell_type": "code",
      "metadata": {
        "id": "ZFsqjPL0lwkD",
        "colab_type": "code",
        "outputId": "850ab110-ebfd-426d-e039-ae03ccbea159",
        "colab": {
          "base_uri": "https://localhost:8080/",
          "height": 279
        }
      },
      "source": [
        "M = confusion_matrix(y_test, y_test_pred)\n",
        "M = np.sqrt(M)\n",
        "plt.imshow(M, interpolation = 'nearest')\n",
        "plt.set_cmap('binary')\n",
        "plt.xticks(range(10))\n",
        "plt.yticks(range(10))\n",
        "plt.xlabel(\"predicted label\")\n",
        "plt.ylabel(\"true label\")\n",
        "plt.colorbar()\n",
        "pass\n"
      ],
      "execution_count": 0,
      "outputs": [
        {
          "output_type": "display_data",
          "data": {
            "image/png": "[encoded data removed]",
            "text/plain": [
              "<Figure size 432x288 with 2 Axes>"
            ]
          },
          "metadata": {
            "tags": []
          }
        }
      ]
    },
    {
      "cell_type": "code",
      "metadata": {
        "id": "wrJWpkUHl3TE",
        "colab_type": "code",
        "outputId": "abb6af1c-6732-4ec3-a8f3-e6aac05dfa0f",
        "colab": {
          "base_uri": "https://localhost:8080/",
          "height": 180
        }
      },
      "source": [
        "from sklearn.metrics import plot_confusion_matrix\n",
        "plot_confusion_matrix(y_test, y_test_pred) # Since Version 0.22"
      ],
      "execution_count": 0,
      "outputs": [
        {
          "output_type": "error",
          "ename": "TypeError",
          "evalue": "ignored",
          "traceback": [
            "\u001b[0;31m---------------------------------------------------------------------------\u001b[0m",
            "\u001b[0;31mTypeError\u001b[0m                                 Traceback (most recent call last)",
            "\u001b[0;32m<ipython-input-281-f5c0a76d6468>\u001b[0m in \u001b[0;36m<module>\u001b[0;34m()\u001b[0m\n\u001b[1;32m      1\u001b[0m \u001b[0;32mfrom\u001b[0m \u001b[0msklearn\u001b[0m\u001b[0;34m.\u001b[0m\u001b[0mmetrics\u001b[0m \u001b[0;32mimport\u001b[0m \u001b[0mplot_confusion_matrix\u001b[0m\u001b[0;34m\u001b[0m\u001b[0;34m\u001b[0m\u001b[0m\n\u001b[0;32m----> 2\u001b[0;31m \u001b[0mplot_confusion_matrix\u001b[0m\u001b[0;34m(\u001b[0m\u001b[0my_test\u001b[0m\u001b[0;34m,\u001b[0m \u001b[0my_test_pred\u001b[0m\u001b[0;34m)\u001b[0m \u001b[0;31m# Since Version 0.22\u001b[0m\u001b[0;34m\u001b[0m\u001b[0;34m\u001b[0m\u001b[0m\n\u001b[0m",
            "\u001b[0;31mTypeError\u001b[0m: plot_confusion_matrix() missing 1 required positional argument: 'y_true'"
          ]
        }
      ]
    },
    {
      "cell_type": "code",
      "metadata": {
        "id": "kGRoaCqbl5uT",
        "colab_type": "code",
        "outputId": "731d2046-e917-44ac-8c6e-570cda26e38c",
        "colab": {
          "base_uri": "https://localhost:8080/",
          "height": 238
        }
      },
      "source": [
        "from sklearn.metrics import classification_report\n",
        "print(classification_report(y_test, y_test_pred))"
      ],
      "execution_count": 0,
      "outputs": [
        {
          "output_type": "stream",
          "text": [
            "              precision    recall  f1-score   support\n",
            "\n",
            "           0       1.00      1.00      1.00       654\n",
            "           1       1.00      1.00      1.00       643\n",
            "           2       1.00      1.00      1.00       657\n",
            "           3       1.00      1.00      1.00       669\n",
            "           4       1.00      1.00      1.00       654\n",
            "           5       1.00      1.00      1.00       685\n",
            "\n",
            "    accuracy                           1.00      3962\n",
            "   macro avg       1.00      1.00      1.00      3962\n",
            "weighted avg       1.00      1.00      1.00      3962\n",
            "\n"
          ],
          "name": "stdout"
        }
      ]
    }
  ]
}